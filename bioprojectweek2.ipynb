{
 "cells": [
  {
   "cell_type": "markdown",
   "metadata": {},
   "source": [
    "# Python Notebook for beetle data"
   ]
  },
  {
   "cell_type": "markdown",
   "metadata": {},
   "source": [
    "## Data loading and analysis"
   ]
  },
  {
   "cell_type": "markdown",
   "metadata": {},
   "source": [
    "### Packages"
   ]
  },
  {
   "cell_type": "code",
   "execution_count": 8,
   "metadata": {},
   "outputs": [],
   "source": [
    "import matplotlib.pyplot as plt"
   ]
  },
  {
   "cell_type": "markdown",
   "metadata": {},
   "source": [
    "### Load data"
   ]
  },
  {
   "cell_type": "code",
   "execution_count": 11,
   "metadata": {},
   "outputs": [
    {
     "name": "stdout",
     "output_type": "stream",
     "text": [
      "8\n"
     ]
    }
   ],
   "source": [
    "import csv\n",
    "beetle_file = open(\"Data/beetle.csv\")\n",
    "counter = 0\n",
    "for line in beetle_file:\n",
    "    counter +=1\n",
    "counter -=1\n",
    "print(counter)\n",
    "beetle_file.close()"
   ]
  },
  {
   "cell_type": "markdown",
   "metadata": {},
   "source": [
    "### Calculate average dose"
   ]
  },
  {
   "cell_type": "code",
   "execution_count": 12,
   "metadata": {},
   "outputs": [
    {
     "name": "stdout",
     "output_type": "stream",
     "text": [
      "0\n"
     ]
    }
   ],
   "source": [
    "total_dose = 0\n",
    "datapoints = 0\n",
    "average_dose = 0\n",
    "beetle_file = open(\"Data/beetle.csv\")\n",
    "for line in beetle_file:\n",
    "    if 'dose' not in line:\n",
    "        datapoints += 1\n",
    "        split_line = line.split(\",\")\n",
    "        dose = float(split_line[0])\n",
    "        total_dose += dose\n",
    "        average_dose = total_dose / datapoints\n",
    "print(average_dose)\n",
    "    "
   ]
  },
  {
   "cell_type": "code",
   "execution_count": 7,
   "metadata": {},
   "outputs": [
    {
     "name": "stdout",
     "output_type": "stream",
     "text": [
      "[49.06, 52.99, 56.91, 60.84, 64.76, 68.69, 72.61, 76.54]\n"
     ]
    },
    {
     "data": {
      "image/png": "[encoded data removed]",
      "text/plain": [
       "<Figure size 432x288 with 1 Axes>"
      ]
     },
     "metadata": {
      "needs_background": "light"
     },
     "output_type": "display_data"
    }
   ],
   "source": [
    "beetle_file = open(\"Data/beetle.csv\")\n",
    "dose = []\n",
    "mortality_rate = []\n",
    "for line in beetle_file:\n",
    "    if 'dose' not in line:\n",
    "        split_line = line.split(\",\")\n",
    "        dose.append(float(split_line[0]))\n",
    "        mortality_rate.append(float(split_line[3]))\n",
    "print(dose)\n",
    "plt.plot(dose,mortality_rate)\n",
    "plt.show()\n"
   ]
  }
 ],
 "metadata": {
  "kernelspec": {
   "display_name": "Python 3",
   "language": "python",
   "name": "python3"
  },
  "language_info": {
   "codemirror_mode": {
    "name": "ipython",
    "version": 3
   },
   "file_extension": ".py",
   "mimetype": "text/x-python",
   "name": "python",
   "nbconvert_exporter": "python",
   "pygments_lexer": "ipython3",
   "version": "3.7.1"
  }
 },
 "nbformat": 4,
 "nbformat_minor": 4
}
