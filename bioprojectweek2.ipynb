{
 "cells": [
  {
   "cell_type": "code",
   "execution_count": 23,
   "metadata": {},
   "outputs": [
    {
     "name": "stdout",
     "output_type": "stream",
     "text": [
      "9\n"
     ]
    }
   ],
   "source": [
    "\n",
    "\n",
    "import csv\n",
    "beetle_file = open(\"Data/beetle.csv\")\n",
    "counter = 0\n",
    "for line in beetle_file:\n",
    "    counter +=1\n",
    "print(counter)\n",
    "beetle_file.close()"
   ]
  },
  {
   "cell_type": "code",
   "execution_count": 32,
   "metadata": {},
   "outputs": [
    {
     "name": "stdout",
     "output_type": "stream",
     "text": [
      "62.800000000000004\n"
     ]
    }
   ],
   "source": [
    "\n",
    "\n",
    "total_dose = 0\n",
    "datapoints = 0\n",
    "average_dose = 0\n",
    "beetle_file = open(\"Data/beetle.csv\")\n",
    "for line in beetle_file:\n",
    "    if 'dose' not in line:\n",
    "        datapoints += 1\n",
    "        split_line = line.split(\",\")\n",
    "        dose = float(split_line[0])\n",
    "        total_dose += dose\n",
    "        average_dose = total_dose / datapoints\n",
    "print(average_dose)\n",
    "    "
   ]
  }
 ],
 "metadata": {
  "kernelspec": {
   "display_name": "Python 3",
   "language": "python",
   "name": "python3"
  },
  "language_info": {
   "codemirror_mode": {
    "name": "ipython",
    "version": 3
   },
   "file_extension": ".py",
   "mimetype": "text/x-python",
   "name": "python",
   "nbconvert_exporter": "python",
   "pygments_lexer": "ipython3",
   "version": "3.7.6"
  }
 },
 "nbformat": 4,
 "nbformat_minor": 4
}
